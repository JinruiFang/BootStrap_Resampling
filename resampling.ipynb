{
 "cells": [
  {
   "cell_type": "markdown",
   "id": "4e7f91ee",
   "metadata": {},
   "source": [
    "# Lab 5: Resampling Methods\n",
    "\n",
    "Introduction to Data Science (DS-GA1001)\n",
    "\n",
    "Code by: Stephen Spivack (ss7726@nyu.edu), Pascal Wallisch (pascalwallisch@nyu.edu)\n",
    "\n",
    "Date: 10-14-22"
   ]
  },
  {
   "cell_type": "markdown",
   "id": "72420a97",
   "metadata": {},
   "source": [
    "#### Import libraries"
   ]
  },
  {
   "cell_type": "code",
   "execution_count": 1,
   "id": "e8fcc289",
   "metadata": {},
   "outputs": [],
   "source": [
    "import sqlite3\n",
    "import random\n",
    "import numpy as np\n",
    "import pandas as pd\n",
    "from scipy.stats import bootstrap, permutation_test\n",
    "import matplotlib.pyplot as plt\n",
    "import seaborn as sns\n",
    "sns.set()"
   ]
  },
  {
   "cell_type": "markdown",
   "id": "3e6747ae",
   "metadata": {},
   "source": [
    "#### Ingest data"
   ]
  },
  {
   "cell_type": "markdown",
   "id": "29b1d8e1",
   "metadata": {},
   "source": [
    "First, we can review how to create a database using SQLite"
   ]
  },
  {
   "cell_type": "code",
   "execution_count": 2,
   "id": "dca270f0",
   "metadata": {},
   "outputs": [],
   "source": [
    "# Step 1: Read CSV file\n",
    "df = pd.read_csv('movieRatingsData.csv') # ingest the data in one line\n",
    "df = df.apply(pd.to_numeric, errors='coerce') # makes sure all strings are converted to floats\n",
    "\n",
    "# Step 2: Connect to SQLite\n",
    "conn = sqlite3.connect('movie_ratings_data.db')\n",
    "\n",
    "# Step 3: Write the data to SQLite table\n",
    "df.to_sql('ratings_matrix', conn, index=False, if_exists='replace')\n",
    "\n",
    "# Step 4: Commit changes and close the connection\n",
    "conn.commit()\n",
    "conn.close()"
   ]
  },
  {
   "cell_type": "markdown",
   "id": "6b7e6a35",
   "metadata": {},
   "source": [
    "Next, we can query that database"
   ]
  },
  {
   "cell_type": "code",
   "execution_count": 3,
   "id": "a0a1d490",
   "metadata": {},
   "outputs": [],
   "source": [
    "# Step 1: Establish a new connection\n",
    "conn = sqlite3.connect('movie_ratings_data.db')\n",
    "\n",
    "# Step 2: Query all columns from the 'ratings_matrix' table\n",
    "query = 'SELECT * FROM ratings_matrix'\n",
    "data = pd.read_sql_query(query, conn)\n",
    "\n",
    "# Step 3: Close the connection\n",
    "conn.close()"
   ]
  },
  {
   "cell_type": "code",
   "execution_count": 4,
   "id": "b3b3d6fb",
   "metadata": {},
   "outputs": [
    {
     "data": {
      "text/html": [
       "<div>\n",
       "<style scoped>\n",
       "    .dataframe tbody tr th:only-of-type {\n",
       "        vertical-align: middle;\n",
       "    }\n",
       "\n",
       "    .dataframe tbody tr th {\n",
       "        vertical-align: top;\n",
       "    }\n",
       "\n",
       "    .dataframe thead th {\n",
       "        text-align: right;\n",
       "    }\n",
       "</style>\n",
       "<table border=\"1\" class=\"dataframe\">\n",
       "  <thead>\n",
       "    <tr style=\"text-align: right;\">\n",
       "      <th></th>\n",
       "      <th>10 things I hate about you (1999)</th>\n",
       "      <th>12 Monkeys (1995)</th>\n",
       "      <th>13 going on 30 (2004)</th>\n",
       "      <th>21 Grams (2003)</th>\n",
       "      <th>25th hour (2002)</th>\n",
       "      <th>28 days later (2002)</th>\n",
       "      <th>3000 Miles to Graceland (2001)</th>\n",
       "      <th>8 Mile (2002)</th>\n",
       "      <th>A Night at the Roxbury (1998)</th>\n",
       "      <th>A time to kill (1996)</th>\n",
       "      <th>...</th>\n",
       "      <th>Toy Story (1995)</th>\n",
       "      <th>Toy Story 2 (1999)</th>\n",
       "      <th>Unforgiven (1992)</th>\n",
       "      <th>What Lies Beneath (2000)</th>\n",
       "      <th>What Women Want (2000)</th>\n",
       "      <th>Wild Wild West (1999)</th>\n",
       "      <th>Wing Commander (1999)</th>\n",
       "      <th>X-Men (2000)</th>\n",
       "      <th>X2 (2003)</th>\n",
       "      <th>Zoolander (2001)</th>\n",
       "    </tr>\n",
       "  </thead>\n",
       "  <tbody>\n",
       "    <tr>\n",
       "      <th>0</th>\n",
       "      <td>3.5</td>\n",
       "      <td>3.5</td>\n",
       "      <td>NaN</td>\n",
       "      <td>3.0</td>\n",
       "      <td>4.0</td>\n",
       "      <td>NaN</td>\n",
       "      <td>NaN</td>\n",
       "      <td>3.0</td>\n",
       "      <td>NaN</td>\n",
       "      <td>2.5</td>\n",
       "      <td>...</td>\n",
       "      <td>3.5</td>\n",
       "      <td>3.5</td>\n",
       "      <td>4.0</td>\n",
       "      <td>NaN</td>\n",
       "      <td>2.5</td>\n",
       "      <td>NaN</td>\n",
       "      <td>NaN</td>\n",
       "      <td>3.5</td>\n",
       "      <td>3.0</td>\n",
       "      <td>2.5</td>\n",
       "    </tr>\n",
       "    <tr>\n",
       "      <th>1</th>\n",
       "      <td>4.0</td>\n",
       "      <td>NaN</td>\n",
       "      <td>3.5</td>\n",
       "      <td>NaN</td>\n",
       "      <td>NaN</td>\n",
       "      <td>NaN</td>\n",
       "      <td>NaN</td>\n",
       "      <td>3.0</td>\n",
       "      <td>2.5</td>\n",
       "      <td>3.5</td>\n",
       "      <td>...</td>\n",
       "      <td>3.5</td>\n",
       "      <td>NaN</td>\n",
       "      <td>2.0</td>\n",
       "      <td>NaN</td>\n",
       "      <td>3.0</td>\n",
       "      <td>NaN</td>\n",
       "      <td>NaN</td>\n",
       "      <td>NaN</td>\n",
       "      <td>2.0</td>\n",
       "      <td>1.0</td>\n",
       "    </tr>\n",
       "    <tr>\n",
       "      <th>2</th>\n",
       "      <td>NaN</td>\n",
       "      <td>NaN</td>\n",
       "      <td>NaN</td>\n",
       "      <td>NaN</td>\n",
       "      <td>NaN</td>\n",
       "      <td>2.0</td>\n",
       "      <td>NaN</td>\n",
       "      <td>NaN</td>\n",
       "      <td>NaN</td>\n",
       "      <td>NaN</td>\n",
       "      <td>...</td>\n",
       "      <td>NaN</td>\n",
       "      <td>3.0</td>\n",
       "      <td>NaN</td>\n",
       "      <td>NaN</td>\n",
       "      <td>NaN</td>\n",
       "      <td>NaN</td>\n",
       "      <td>NaN</td>\n",
       "      <td>NaN</td>\n",
       "      <td>3.0</td>\n",
       "      <td>NaN</td>\n",
       "    </tr>\n",
       "    <tr>\n",
       "      <th>3</th>\n",
       "      <td>NaN</td>\n",
       "      <td>NaN</td>\n",
       "      <td>1.5</td>\n",
       "      <td>NaN</td>\n",
       "      <td>NaN</td>\n",
       "      <td>NaN</td>\n",
       "      <td>NaN</td>\n",
       "      <td>NaN</td>\n",
       "      <td>NaN</td>\n",
       "      <td>NaN</td>\n",
       "      <td>...</td>\n",
       "      <td>2.0</td>\n",
       "      <td>3.0</td>\n",
       "      <td>NaN</td>\n",
       "      <td>NaN</td>\n",
       "      <td>NaN</td>\n",
       "      <td>NaN</td>\n",
       "      <td>NaN</td>\n",
       "      <td>NaN</td>\n",
       "      <td>1.0</td>\n",
       "      <td>2.0</td>\n",
       "    </tr>\n",
       "    <tr>\n",
       "      <th>4</th>\n",
       "      <td>1.0</td>\n",
       "      <td>3.0</td>\n",
       "      <td>NaN</td>\n",
       "      <td>NaN</td>\n",
       "      <td>NaN</td>\n",
       "      <td>3.0</td>\n",
       "      <td>NaN</td>\n",
       "      <td>NaN</td>\n",
       "      <td>3.5</td>\n",
       "      <td>NaN</td>\n",
       "      <td>...</td>\n",
       "      <td>3.0</td>\n",
       "      <td>2.5</td>\n",
       "      <td>3.0</td>\n",
       "      <td>2.5</td>\n",
       "      <td>1.0</td>\n",
       "      <td>1.5</td>\n",
       "      <td>NaN</td>\n",
       "      <td>2.5</td>\n",
       "      <td>2.0</td>\n",
       "      <td>3.5</td>\n",
       "    </tr>\n",
       "    <tr>\n",
       "      <th>...</th>\n",
       "      <td>...</td>\n",
       "      <td>...</td>\n",
       "      <td>...</td>\n",
       "      <td>...</td>\n",
       "      <td>...</td>\n",
       "      <td>...</td>\n",
       "      <td>...</td>\n",
       "      <td>...</td>\n",
       "      <td>...</td>\n",
       "      <td>...</td>\n",
       "      <td>...</td>\n",
       "      <td>...</td>\n",
       "      <td>...</td>\n",
       "      <td>...</td>\n",
       "      <td>...</td>\n",
       "      <td>...</td>\n",
       "      <td>...</td>\n",
       "      <td>...</td>\n",
       "      <td>...</td>\n",
       "      <td>...</td>\n",
       "      <td>...</td>\n",
       "    </tr>\n",
       "    <tr>\n",
       "      <th>3199</th>\n",
       "      <td>NaN</td>\n",
       "      <td>3.5</td>\n",
       "      <td>NaN</td>\n",
       "      <td>2.5</td>\n",
       "      <td>1.0</td>\n",
       "      <td>4.0</td>\n",
       "      <td>NaN</td>\n",
       "      <td>NaN</td>\n",
       "      <td>1.0</td>\n",
       "      <td>NaN</td>\n",
       "      <td>...</td>\n",
       "      <td>NaN</td>\n",
       "      <td>NaN</td>\n",
       "      <td>NaN</td>\n",
       "      <td>0.5</td>\n",
       "      <td>NaN</td>\n",
       "      <td>NaN</td>\n",
       "      <td>NaN</td>\n",
       "      <td>3.5</td>\n",
       "      <td>2.5</td>\n",
       "      <td>4.0</td>\n",
       "    </tr>\n",
       "    <tr>\n",
       "      <th>3200</th>\n",
       "      <td>3.0</td>\n",
       "      <td>NaN</td>\n",
       "      <td>NaN</td>\n",
       "      <td>NaN</td>\n",
       "      <td>NaN</td>\n",
       "      <td>NaN</td>\n",
       "      <td>NaN</td>\n",
       "      <td>3.0</td>\n",
       "      <td>NaN</td>\n",
       "      <td>NaN</td>\n",
       "      <td>...</td>\n",
       "      <td>2.0</td>\n",
       "      <td>2.0</td>\n",
       "      <td>NaN</td>\n",
       "      <td>NaN</td>\n",
       "      <td>3.0</td>\n",
       "      <td>2.0</td>\n",
       "      <td>NaN</td>\n",
       "      <td>NaN</td>\n",
       "      <td>NaN</td>\n",
       "      <td>NaN</td>\n",
       "    </tr>\n",
       "    <tr>\n",
       "      <th>3201</th>\n",
       "      <td>NaN</td>\n",
       "      <td>2.0</td>\n",
       "      <td>NaN</td>\n",
       "      <td>3.0</td>\n",
       "      <td>NaN</td>\n",
       "      <td>NaN</td>\n",
       "      <td>NaN</td>\n",
       "      <td>NaN</td>\n",
       "      <td>NaN</td>\n",
       "      <td>NaN</td>\n",
       "      <td>...</td>\n",
       "      <td>NaN</td>\n",
       "      <td>NaN</td>\n",
       "      <td>NaN</td>\n",
       "      <td>NaN</td>\n",
       "      <td>NaN</td>\n",
       "      <td>NaN</td>\n",
       "      <td>NaN</td>\n",
       "      <td>NaN</td>\n",
       "      <td>NaN</td>\n",
       "      <td>NaN</td>\n",
       "    </tr>\n",
       "    <tr>\n",
       "      <th>3202</th>\n",
       "      <td>1.5</td>\n",
       "      <td>NaN</td>\n",
       "      <td>NaN</td>\n",
       "      <td>3.5</td>\n",
       "      <td>3.0</td>\n",
       "      <td>2.5</td>\n",
       "      <td>NaN</td>\n",
       "      <td>3.0</td>\n",
       "      <td>2.0</td>\n",
       "      <td>NaN</td>\n",
       "      <td>...</td>\n",
       "      <td>2.0</td>\n",
       "      <td>NaN</td>\n",
       "      <td>NaN</td>\n",
       "      <td>NaN</td>\n",
       "      <td>0.0</td>\n",
       "      <td>NaN</td>\n",
       "      <td>NaN</td>\n",
       "      <td>NaN</td>\n",
       "      <td>NaN</td>\n",
       "      <td>4.0</td>\n",
       "    </tr>\n",
       "    <tr>\n",
       "      <th>3203</th>\n",
       "      <td>NaN</td>\n",
       "      <td>NaN</td>\n",
       "      <td>3.5</td>\n",
       "      <td>1.5</td>\n",
       "      <td>NaN</td>\n",
       "      <td>3.5</td>\n",
       "      <td>0.5</td>\n",
       "      <td>NaN</td>\n",
       "      <td>1.0</td>\n",
       "      <td>NaN</td>\n",
       "      <td>...</td>\n",
       "      <td>NaN</td>\n",
       "      <td>NaN</td>\n",
       "      <td>NaN</td>\n",
       "      <td>NaN</td>\n",
       "      <td>2.5</td>\n",
       "      <td>1.5</td>\n",
       "      <td>0.5</td>\n",
       "      <td>NaN</td>\n",
       "      <td>NaN</td>\n",
       "      <td>NaN</td>\n",
       "    </tr>\n",
       "  </tbody>\n",
       "</table>\n",
       "<p>3204 rows × 209 columns</p>\n",
       "</div>"
      ],
      "text/plain": [
       "      10 things I hate about you (1999)  12 Monkeys (1995)  \\\n",
       "0                                   3.5                3.5   \n",
       "1                                   4.0                NaN   \n",
       "2                                   NaN                NaN   \n",
       "3                                   NaN                NaN   \n",
       "4                                   1.0                3.0   \n",
       "...                                 ...                ...   \n",
       "3199                                NaN                3.5   \n",
       "3200                                3.0                NaN   \n",
       "3201                                NaN                2.0   \n",
       "3202                                1.5                NaN   \n",
       "3203                                NaN                NaN   \n",
       "\n",
       "      13 going on 30 (2004)  21 Grams (2003)  25th hour (2002)  \\\n",
       "0                       NaN              3.0               4.0   \n",
       "1                       3.5              NaN               NaN   \n",
       "2                       NaN              NaN               NaN   \n",
       "3                       1.5              NaN               NaN   \n",
       "4                       NaN              NaN               NaN   \n",
       "...                     ...              ...               ...   \n",
       "3199                    NaN              2.5               1.0   \n",
       "3200                    NaN              NaN               NaN   \n",
       "3201                    NaN              3.0               NaN   \n",
       "3202                    NaN              3.5               3.0   \n",
       "3203                    3.5              1.5               NaN   \n",
       "\n",
       "      28 days later (2002)  3000 Miles to Graceland (2001)  8 Mile (2002)  \\\n",
       "0                      NaN                             NaN            3.0   \n",
       "1                      NaN                             NaN            3.0   \n",
       "2                      2.0                             NaN            NaN   \n",
       "3                      NaN                             NaN            NaN   \n",
       "4                      3.0                             NaN            NaN   \n",
       "...                    ...                             ...            ...   \n",
       "3199                   4.0                             NaN            NaN   \n",
       "3200                   NaN                             NaN            3.0   \n",
       "3201                   NaN                             NaN            NaN   \n",
       "3202                   2.5                             NaN            3.0   \n",
       "3203                   3.5                             0.5            NaN   \n",
       "\n",
       "      A Night at the Roxbury (1998)   A time to kill (1996)  ...  \\\n",
       "0                                NaN                    2.5  ...   \n",
       "1                                2.5                    3.5  ...   \n",
       "2                                NaN                    NaN  ...   \n",
       "3                                NaN                    NaN  ...   \n",
       "4                                3.5                    NaN  ...   \n",
       "...                              ...                    ...  ...   \n",
       "3199                             1.0                    NaN  ...   \n",
       "3200                             NaN                    NaN  ...   \n",
       "3201                             NaN                    NaN  ...   \n",
       "3202                             2.0                    NaN  ...   \n",
       "3203                             1.0                    NaN  ...   \n",
       "\n",
       "      Toy Story (1995)  Toy Story 2 (1999)  Unforgiven (1992)  \\\n",
       "0                  3.5                 3.5                4.0   \n",
       "1                  3.5                 NaN                2.0   \n",
       "2                  NaN                 3.0                NaN   \n",
       "3                  2.0                 3.0                NaN   \n",
       "4                  3.0                 2.5                3.0   \n",
       "...                ...                 ...                ...   \n",
       "3199               NaN                 NaN                NaN   \n",
       "3200               2.0                 2.0                NaN   \n",
       "3201               NaN                 NaN                NaN   \n",
       "3202               2.0                 NaN                NaN   \n",
       "3203               NaN                 NaN                NaN   \n",
       "\n",
       "      What Lies Beneath (2000)  What Women Want (2000)  Wild Wild West (1999)  \\\n",
       "0                          NaN                     2.5                    NaN   \n",
       "1                          NaN                     3.0                    NaN   \n",
       "2                          NaN                     NaN                    NaN   \n",
       "3                          NaN                     NaN                    NaN   \n",
       "4                          2.5                     1.0                    1.5   \n",
       "...                        ...                     ...                    ...   \n",
       "3199                       0.5                     NaN                    NaN   \n",
       "3200                       NaN                     3.0                    2.0   \n",
       "3201                       NaN                     NaN                    NaN   \n",
       "3202                       NaN                     0.0                    NaN   \n",
       "3203                       NaN                     2.5                    1.5   \n",
       "\n",
       "      Wing Commander (1999)  X-Men (2000)  X2 (2003)  Zoolander (2001)  \n",
       "0                       NaN           3.5        3.0               2.5  \n",
       "1                       NaN           NaN        2.0               1.0  \n",
       "2                       NaN           NaN        3.0               NaN  \n",
       "3                       NaN           NaN        1.0               2.0  \n",
       "4                       NaN           2.5        2.0               3.5  \n",
       "...                     ...           ...        ...               ...  \n",
       "3199                    NaN           3.5        2.5               4.0  \n",
       "3200                    NaN           NaN        NaN               NaN  \n",
       "3201                    NaN           NaN        NaN               NaN  \n",
       "3202                    NaN           NaN        NaN               4.0  \n",
       "3203                    0.5           NaN        NaN               NaN  \n",
       "\n",
       "[3204 rows x 209 columns]"
      ]
     },
     "execution_count": 4,
     "metadata": {},
     "output_type": "execute_result"
    }
   ],
   "source": [
    "data"
   ]
  },
  {
   "cell_type": "markdown",
   "id": "17e2abeb",
   "metadata": {},
   "source": [
    "#### Preprocess data"
   ]
  },
  {
   "cell_type": "code",
   "execution_count": 5,
   "id": "4ffac265",
   "metadata": {},
   "outputs": [],
   "source": [
    "# extract each column from the dataframe; store as numpy array where we drop the NaN values \n",
    "# element-wise per vector; check the length of each\n",
    "matrix_1 = data['The Matrix (1999)'].dropna().to_numpy()\n",
    "matrix_2 = data['The Matrix Reloaded (2003)'].dropna().to_numpy()\n",
    "matrix_3 = data['The Matrix Revolutions (2003)'].dropna().to_numpy()"
   ]
  },
  {
   "cell_type": "markdown",
   "id": "02560c1e",
   "metadata": {},
   "source": [
    "#### Plot ratings distribution for a given movie"
   ]
  },
  {
   "cell_type": "code",
   "execution_count": 6,
   "id": "62c0126e",
   "metadata": {},
   "outputs": [
    {
     "data": {
      "image/png": "[encoded data removed]",
      "text/plain": [
       "<Figure size 720x432 with 1 Axes>"
      ]
     },
     "metadata": {
      "needs_background": "light"
     },
     "output_type": "display_data"
    }
   ],
   "source": [
    "plt.figure(figsize=(10,6))\n",
    "plt.hist(matrix_1, density=True, color='dodgerblue')\n",
    "plt.title('Normalized ratings distribution for Matrix I')\n",
    "plt.xlabel('rating')\n",
    "plt.ylabel('Density')\n",
    "plt.show()"
   ]
  },
  {
   "cell_type": "markdown",
   "id": "2bdd197d",
   "metadata": {},
   "source": [
    "#### Pascal's primer (PP) on randomization\n",
    "\n",
    "More info about RNG: https://numpy.org/doc/stable/reference/random/generator.html\n",
    "\n",
    "Randomization\n",
    "As resampling methods draw heavily on the generation of random numbers, it is worth spending some time on understanding the random number generator in Python more deeply. As a reminder, unless you have a hardware random number generator hooked up to your machine the \"random\" numbers generated by Python are pseudo-random, meaning that they are 100% deterministic, given that you know the following 3 things: \n",
    "\n",
    "A. A method to generate them. Most of the computational packages do something that involves the multiplication of large prime numbers (Mersenne primes, usually). This generates a large sequence of digits that distribute randomly (have a random sequence) - as far as we can tell. If this is too complicated, you could use pi (the digits after the period, and you can compute as many as you want). \n",
    "\n",
    "B. A starting point in the sequence. Where in - if we use pi - you start getting your digits. This starting point is called the \"seed\" of the random number generator.   \n",
    "\n",
    "C. A \"state\" - the state is the current position in the sequence. Every time we ask Python to generate random number of some sort (interacting with a function that calls the RNG), the state is updated. So if you don't re-initialize the seed, you won't get the same numbers, if you call the same function again, because the *state* has been updated.  \n",
    "\n",
    "For all intents and purposes - unless you need to investigate randomness itself - your prime concern should be the *seed*. Everything else is handled by experts or Python itself. So focus on the seed.\n",
    "\n",
    "General statement about the seed: \n",
    "\n",
    "You can pick whichever number you want. Importantly, what matters most is that it is *the same* seed if you want the same random sequence. This matters tremendously if you use this - for instance for a train/test split. At random. If you always use the exact same seed, then it will always be the exact same split. Sometimes you want that. For instance, if you store the seed, you can reproduce everything you did. For instance, if you run an experiment, you might want to present your stimuli or conditions at random, for each user. So that there are no carry-over effects (say you study emotional reactions to images, if you always use the same sequence, you could get fatigue effects - or other serial position effects (learning, etc.)). If you forget to store the sequence in which you presented the stimuli (!) you are out luck, unless you stored the seed. From the seed alone, you can completely recreate the sequence that was used for each user. It's also good for professors because if - say in the capstone - I ask you to seed with your student ID and the right answers (e.g. train/test split) are keyed to that seed, it makes plagiarism basically impossible. Because the right answer depends on your seed. \n",
    "\n",
    "In Python, if you do not explicitly set a seed, it will by default (under the hood) call the seed method of random without an argument, so this is what happens anyway. And that's fine. Unless you want to know what seed it was or if you want to port code from Python to another language. If you're ok with always getting different numbers in Python, but don't set the seed, and port this code to MATLAB the default seed is the number \"0\". Unless specified otherwise, MATLAB always seeds with 0. R and Julia have other defaults. So check that before you assume anything. So for something like an experiment, where each sequence of numbers looks random, but it is always the exact same random sequence if we re-use the seed, most experimenters seed the RNG with the user number or the participant number. Using consecutive user numbers (assuming they are unique) is fine as consecutive seed numbers don't produce consecutive random numbers. Seed number doesn't map on the random numbers produced. So from the perspective of the user (you), what really matters is seed management. And for all intents and purposes the only thing that matters there is whether a seed is the same or different and to store it, if you want to recreate what happened. Just to be clear: The random library (\"module\") contains many other nice functions to get random numbers in addition to the randint function, which draws random integers between the start and end number (inclusive)."
   ]
  },
  {
   "cell_type": "markdown",
   "id": "bff3cf19",
   "metadata": {},
   "source": [
    "#### Bootstrap resampling by hand"
   ]
  },
  {
   "cell_type": "code",
   "execution_count": 7,
   "id": "54655561",
   "metadata": {},
   "outputs": [
    {
     "name": "stdout",
     "output_type": "stream",
     "text": [
      "Matrix I: 3.119\n",
      "Matrix II: 2.349\n",
      "Matrix III: 2.215\n"
     ]
    }
   ],
   "source": [
    "matrix_1_mean = np.mean(matrix_1)\n",
    "print('Matrix I:', matrix_1_mean.round(3))\n",
    "matrix_2_mean = np.mean(matrix_2)\n",
    "print('Matrix II:', matrix_2_mean.round(3))\n",
    "matrix_3_mean = np.mean(matrix_3)\n",
    "print('Matrix III:', matrix_3_mean.round(3))"
   ]
  },
  {
   "cell_type": "code",
   "execution_count": 8,
   "id": "e470d613",
   "metadata": {},
   "outputs": [],
   "source": [
    "ratings_array = matrix_1 # set the movie of interest's ratings as ratings_array\n",
    "num_experiments = int(1e4) # number of times to simulate the statistical experiment\n",
    "n_samples = len(matrix_1) # play around at home with different values and note the differences\n",
    "rng = np.random.default_rng(69420) # set the seed to any number\n",
    "bootstrapped_means = [] # init empty list\n",
    "for i in range(num_experiments): # loop through each exp\n",
    "    random_idx = rng.integers(low=0, high=len(ratings_array), size=n_samples) # note: with replacement\n",
    "    bootstrapped_means.append(ratings_array[random_idx].mean()) # compute the mean and store in correspoinding element of hte list"
   ]
  },
  {
   "cell_type": "code",
   "execution_count": 9,
   "id": "789d6138",
   "metadata": {},
   "outputs": [],
   "source": [
    "confidence_level = 0.95\n",
    "sorted_data = np.sort(bootstrapped_means) # sort the values\n",
    "lower_percentile = (1 - confidence_level)/2\n",
    "upper_percentile = 1 - lower_percentile\n",
    "lower_index = int(lower_percentile*num_experiments)\n",
    "upper_index = num_experiments - lower_index\n",
    "lower_bound = sorted_data[lower_index]\n",
    "upper_bound = sorted_data[upper_index]"
   ]
  },
  {
   "cell_type": "code",
   "execution_count": 10,
   "id": "04cafff6",
   "metadata": {},
   "outputs": [],
   "source": [
    "lower_bound = np.sort(bootstrapped_means)[int(.025*len(bootstrapped_means))]\n",
    "upper_bound = np.sort(bootstrapped_means)[int(.975*len(bootstrapped_means))]"
   ]
  },
  {
   "cell_type": "code",
   "execution_count": 11,
   "id": "bacf0293",
   "metadata": {},
   "outputs": [
    {
     "name": "stdout",
     "output_type": "stream",
     "text": [
      "Estimate offset: 0.0002502597402602724\n"
     ]
    }
   ],
   "source": [
    "print('Estimate offset:', np.mean(bootstrapped_means) - np.mean(ratings_array))"
   ]
  },
  {
   "cell_type": "code",
   "execution_count": 12,
   "id": "46e00030",
   "metadata": {},
   "outputs": [
    {
     "data": {
      "image/png": "[encoded data removed]",
      "text/plain": [
       "<Figure size 720x432 with 1 Axes>"
      ]
     },
     "metadata": {
      "needs_background": "light"
     },
     "output_type": "display_data"
    }
   ],
   "source": [
    "plt.figure(figsize=(10,6))\n",
    "plt.hist(bootstrapped_means, bins=50, density=True, color='lightgrey', label='bootstrapped_means')\n",
    "plt.vlines(np.mean(ratings_array), 0, 25, color='orange', ls='--', label='orange_line_for_the_fox') # emp. sample mean\n",
    "plt.vlines(lower_bound, 0, 25, color='black', ls='--', label='95%CI')\n",
    "plt.vlines(upper_bound, 0, 25, color='black', ls='--')\n",
    "plt.xlabel('Mean rating')\n",
    "plt.ylabel('Normalized count')\n",
    "plt.legend()\n",
    "plt.show()"
   ]
  },
  {
   "cell_type": "markdown",
   "id": "a0d34800",
   "metadata": {},
   "source": [
    "#### Bootstrap resampling with SciPy"
   ]
  },
  {
   "cell_type": "code",
   "execution_count": 13,
   "id": "5cf04726",
   "metadata": {},
   "outputs": [
    {
     "data": {
      "text/plain": [
       "BootstrapResult(confidence_interval=ConfidenceInterval(low=3.0796938427271345, high=3.158514701922605), standard_error=0.020135228851906457)"
      ]
     },
     "execution_count": 13,
     "metadata": {},
     "output_type": "execute_result"
    }
   ],
   "source": [
    "# input data has to be a sequence\n",
    "bootstrap_ci = bootstrap((list(ratings_array),), \n",
    "                         np.mean, \n",
    "                         n_resamples = int(1e4), \n",
    "                         random_state=0, \n",
    "                         confidence_level=0.95)\n",
    "bootstrap_ci"
   ]
  },
  {
   "cell_type": "markdown",
   "id": "1cf96893",
   "metadata": {},
   "source": [
    "#### Permutation test by hand"
   ]
  },
  {
   "cell_type": "code",
   "execution_count": 14,
   "id": "7461783b",
   "metadata": {},
   "outputs": [
    {
     "data": {
      "text/plain": [
       "0.1335042960055528"
      ]
     },
     "execution_count": 14,
     "metadata": {},
     "output_type": "execute_result"
    }
   ],
   "source": [
    "test_stat = np.mean(matrix_2) - np.mean(matrix_3)\n",
    "test_stat"
   ]
  },
  {
   "cell_type": "code",
   "execution_count": 15,
   "id": "e90d0e9e",
   "metadata": {},
   "outputs": [],
   "source": [
    "num_reps = int(1e4) # same number as before\n",
    "joint_data = np.concatenate((matrix_2, matrix_3)) # joint representation of both ratings arrays\n",
    "n1 = len(matrix_2) \n",
    "n2 = len(joint_data)\n",
    "rng = np.random.default_rng(69420)\n",
    "shuffled_stats = []\n",
    "for i in range(num_reps): # loop thru each\n",
    "    shuffled_indices = rng.permutation(n2) # randomly shuffle n2\n",
    "    shuffled_group_1 = joint_data[shuffled_indices[:n1]]\n",
    "    shuffled_group_2 = joint_data[shuffled_indices[n1:]]\n",
    "    shuffled_stats.append(np.mean(shuffled_group_1) - np.mean(shuffled_group_2))"
   ]
  },
  {
   "cell_type": "code",
   "execution_count": 16,
   "id": "9a1ac9da",
   "metadata": {},
   "outputs": [
    {
     "data": {
      "image/png": "[encoded data removed]",
      "text/plain": [
       "<Figure size 720x432 with 1 Axes>"
      ]
     },
     "metadata": {
      "needs_background": "light"
     },
     "output_type": "display_data"
    }
   ],
   "source": [
    "plt.figure(figsize=(10,6))\n",
    "plt.hist(shuffled_stats, bins=50, density=True, color='lightgrey', label='null distribution')\n",
    "plt.vlines(test_stat, 0, 12, color='orange', ls='--', label='test_stat')\n",
    "plt.title('Null distribution vs. empirical value of our test statistic')\n",
    "plt.legend()\n",
    "plt.show()"
   ]
  },
  {
   "cell_type": "code",
   "execution_count": 17,
   "id": "6ef28f73",
   "metadata": {},
   "outputs": [
    {
     "name": "stdout",
     "output_type": "stream",
     "text": [
      "p-val: 0.0002\n"
     ]
    }
   ],
   "source": [
    "p_val = len(np.argwhere(shuffled_stats>=test_stat))/num_reps\n",
    "print('p-val:', p_val)"
   ]
  },
  {
   "cell_type": "markdown",
   "id": "83efb0bb",
   "metadata": {},
   "source": [
    "#### Permutation test with SciPy"
   ]
  },
  {
   "cell_type": "code",
   "execution_count": 18,
   "id": "084cd36b",
   "metadata": {},
   "outputs": [
    {
     "name": "stdout",
     "output_type": "stream",
     "text": [
      "Test stat: 0.1335042960055528\n",
      "P-val: 0.000999900009999\n"
     ]
    }
   ],
   "source": [
    "def test_stat_func(x,y):\n",
    "    return np.mean(x) - np.mean(y)\n",
    "\n",
    "test_data = (matrix_2, matrix_3)\n",
    "p_test = permutation_test(test_data, test_stat_func, n_resamples=int(1e4), random_state=69420)    \n",
    "print('Test stat:', p_test.statistic)\n",
    "print('P-val:',p_test.pvalue)\n",
    "\n",
    "# at home: change the number of repeats and note the stability of the results and how they \n",
    "# change as a function of the number of repeats.\n",
    "# by default, this is two-tailed."
   ]
  }
 ],
 "metadata": {
  "kernelspec": {
   "display_name": "Python 3 (ipykernel)",
   "language": "python",
   "name": "python3"
  },
  "language_info": {
   "codemirror_mode": {
    "name": "ipython",
    "version": 3
   },
   "file_extension": ".py",
   "mimetype": "text/x-python",
   "name": "python",
   "nbconvert_exporter": "python",
   "pygments_lexer": "ipython3",
   "version": "3.9.10"
  }
 },
 "nbformat": 4,
 "nbformat_minor": 5
}
